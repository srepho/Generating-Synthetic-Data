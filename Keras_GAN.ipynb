{
  "nbformat": 4,
  "nbformat_minor": 0,
  "metadata": {
    "colab": {
      "name": "Keras_GAN.ipynb",
      "version": "0.3.2",
      "provenance": [],
      "include_colab_link": true
    },
    "kernelspec": {
      "name": "python3",
      "display_name": "Python 3"
    },
    "accelerator": "GPU"
  },
  "cells": [
    {
      "cell_type": "markdown",
      "metadata": {
        "id": "view-in-github",
        "colab_type": "text"
      },
      "source": [
        "<a href=\"https://colab.research.google.com/github/srepho/Generating-Synthetic-Data/blob/master/Keras_GAN.ipynb\" target=\"_parent\"><img src=\"https://colab.research.google.com/assets/colab-badge.svg\" alt=\"Open In Colab\"/></a>"
      ]
    },
    {
      "metadata": {
        "id": "bEe_fNfPi0AL",
        "colab_type": "code",
        "colab": {}
      },
      "cell_type": "code",
      "source": [
        "%matplotlib inline"
      ],
      "execution_count": 0,
      "outputs": []
    },
    {
      "metadata": {
        "id": "H5umgQxxf_5S",
        "colab_type": "code",
        "colab": {}
      },
      "cell_type": "code",
      "source": [
        "!pip install -q keras"
      ],
      "execution_count": 0,
      "outputs": []
    },
    {
      "metadata": {
        "id": "9hfw4fYphBa-",
        "colab_type": "code",
        "colab": {}
      },
      "cell_type": "code",
      "source": [
        "import pandas as pd\n",
        "import numpy as np\n",
        "import matplotlib.pyplot as plt\n",
        "import seaborn as sns\n",
        "import keras\n",
        "import sklearn\n",
        "from sklearn.model_selection import train_test_split\n",
        "from keras import layers\n",
        "from keras import Sequential\n",
        "from keras.models import Model\n",
        "from keras.layers import Input, Dense"
      ],
      "execution_count": 0,
      "outputs": []
    },
    {
      "metadata": {
        "id": "yaUKpbB3huds",
        "colab_type": "code",
        "colab": {}
      },
      "cell_type": "code",
      "source": [
        "Adult_df = pd.read_csv(\"https://archive.ics.uci.edu/ml/machine-learning-databases/adult/adult.data\", header=None)"
      ],
      "execution_count": 0,
      "outputs": []
    },
    {
      "metadata": {
        "id": "Zlh5CRp7h7YH",
        "colab_type": "code",
        "colab": {}
      },
      "cell_type": "code",
      "source": [
        "Adult_df.columns = [\"age\", \"workclassification\", \"fnlwgt\", \"education\", \"education_continuous\", \"marital_status\", \"occupation\", \"relationship\", \"race\", \"sex\", \"capitalgain\", \n",
        "                    \"capitalloss\", \"hours_per_week\", \"native_country\", \"salary\"]"
      ],
      "execution_count": 0,
      "outputs": []
    },
    {
      "metadata": {
        "id": "twxgA3v2O2Mb",
        "colab_type": "code",
        "colab": {}
      },
      "cell_type": "code",
      "source": [
        "X = pd.get_dummies(Adult_df.loc[:, \"age\":\"native_country\"])\n",
        "Y = pd.get_dummies(Adult_df[\"salary\"])"
      ],
      "execution_count": 0,
      "outputs": []
    },
    {
      "metadata": {
        "id": "7KWjz1QEna1N",
        "colab_type": "code",
        "colab": {}
      },
      "cell_type": "code",
      "source": [
        "Output = Y[\" <=50K\"]"
      ],
      "execution_count": 0,
      "outputs": []
    },
    {
      "metadata": {
        "id": "TnYuKikEna4I",
        "colab_type": "code",
        "colab": {}
      },
      "cell_type": "code",
      "source": [
        "X_train, X_test, y_train, y_test = train_test_split(X, Output, test_size=0.20)"
      ],
      "execution_count": 0,
      "outputs": []
    },
    {
      "metadata": {
        "id": "PvjfJHbCna7P",
        "colab_type": "code",
        "colab": {}
      },
      "cell_type": "code",
      "source": [
        "model = Sequential()\n",
        "model.add(Dense(50, input_dim=108, kernel_initializer='uniform', activation='relu'))\n",
        "model.add(layers.Dropout(0.5))\n",
        "model.add(Dense(25, kernel_initializer='uniform', activation='relu'))\n",
        "model.add(layers.Dropout(0.5))\n",
        "model.add(Dense(1, kernel_initializer='uniform', activation='sigmoid'))"
      ],
      "execution_count": 0,
      "outputs": []
    },
    {
      "metadata": {
        "id": "ZL6xz9ebna-0",
        "colab_type": "code",
        "colab": {}
      },
      "cell_type": "code",
      "source": [
        "model.compile(loss='binary_crossentropy', optimizer='adam', metrics=[\"acc\"])"
      ],
      "execution_count": 0,
      "outputs": []
    },
    {
      "metadata": {
        "id": "LbfUjKGgpj29",
        "colab_type": "code",
        "colab": {
          "base_uri": "https://localhost:8080/",
          "height": 3451
        },
        "outputId": "64958b2b-5d6e-4f0c-e824-9156703a810d"
      },
      "cell_type": "code",
      "source": [
        "model.fit(X_train, y_train, epochs=100, batch_size=10000,  verbose=1, validation_data=(X_test, y_test), shuffle=True)"
      ],
      "execution_count": 35,
      "outputs": [
        {
          "output_type": "stream",
          "text": [
            "Train on 26048 samples, validate on 6513 samples\n",
            "Epoch 1/100\n",
            "26048/26048 [==============================] - 0s 18us/step - loss: 7.4015 - acc: 0.5146 - val_loss: 3.7599 - val_acc: 0.7640\n",
            "Epoch 2/100\n",
            "26048/26048 [==============================] - 0s 4us/step - loss: 4.8856 - acc: 0.6798 - val_loss: 3.7690 - val_acc: 0.7634\n",
            "Epoch 3/100\n",
            "26048/26048 [==============================] - 0s 5us/step - loss: 4.0312 - acc: 0.7416 - val_loss: 3.7715 - val_acc: 0.7634\n",
            "Epoch 4/100\n",
            "26048/26048 [==============================] - 0s 4us/step - loss: 3.8942 - acc: 0.7538 - val_loss: 3.7720 - val_acc: 0.7634\n",
            "Epoch 5/100\n",
            "26048/26048 [==============================] - 0s 4us/step - loss: 3.8571 - acc: 0.7566 - val_loss: 3.7720 - val_acc: 0.7634\n",
            "Epoch 6/100\n",
            "26048/26048 [==============================] - 0s 4us/step - loss: 3.8569 - acc: 0.7575 - val_loss: 3.7709 - val_acc: 0.7634\n",
            "Epoch 7/100\n",
            "26048/26048 [==============================] - 0s 4us/step - loss: 3.8538 - acc: 0.7582 - val_loss: 3.7700 - val_acc: 0.7634\n",
            "Epoch 8/100\n",
            "26048/26048 [==============================] - 0s 5us/step - loss: 3.8495 - acc: 0.7582 - val_loss: 3.7690 - val_acc: 0.7635\n",
            "Epoch 9/100\n",
            "26048/26048 [==============================] - 0s 4us/step - loss: 3.8510 - acc: 0.7583 - val_loss: 3.7682 - val_acc: 0.7635\n",
            "Epoch 10/100\n",
            "26048/26048 [==============================] - 0s 4us/step - loss: 3.8487 - acc: 0.7583 - val_loss: 3.7650 - val_acc: 0.7637\n",
            "Epoch 11/100\n",
            "26048/26048 [==============================] - 0s 4us/step - loss: 3.8507 - acc: 0.7582 - val_loss: 3.7647 - val_acc: 0.7639\n",
            "Epoch 12/100\n",
            "26048/26048 [==============================] - 0s 4us/step - loss: 3.8514 - acc: 0.7582 - val_loss: 3.7629 - val_acc: 0.7639\n",
            "Epoch 13/100\n",
            "26048/26048 [==============================] - 0s 6us/step - loss: 3.8476 - acc: 0.7586 - val_loss: 3.7622 - val_acc: 0.7640\n",
            "Epoch 14/100\n",
            "26048/26048 [==============================] - 0s 4us/step - loss: 3.8479 - acc: 0.7583 - val_loss: 3.7610 - val_acc: 0.7640\n",
            "Epoch 15/100\n",
            "26048/26048 [==============================] - 0s 4us/step - loss: 3.8497 - acc: 0.7584 - val_loss: 3.7598 - val_acc: 0.7642\n",
            "Epoch 16/100\n",
            "26048/26048 [==============================] - 0s 4us/step - loss: 3.8465 - acc: 0.7586 - val_loss: 3.7598 - val_acc: 0.7642\n",
            "Epoch 17/100\n",
            "26048/26048 [==============================] - 0s 5us/step - loss: 3.8398 - acc: 0.7589 - val_loss: 3.7540 - val_acc: 0.7645\n",
            "Epoch 18/100\n",
            "26048/26048 [==============================] - 0s 7us/step - loss: 3.8360 - acc: 0.7591 - val_loss: 3.7436 - val_acc: 0.7649\n",
            "Epoch 19/100\n",
            "26048/26048 [==============================] - 0s 5us/step - loss: 3.8363 - acc: 0.7591 - val_loss: 3.7357 - val_acc: 0.7655\n",
            "Epoch 20/100\n",
            "26048/26048 [==============================] - 0s 5us/step - loss: 3.8328 - acc: 0.7592 - val_loss: 3.7319 - val_acc: 0.7657\n",
            "Epoch 21/100\n",
            "26048/26048 [==============================] - 0s 5us/step - loss: 3.8231 - acc: 0.7600 - val_loss: 3.7293 - val_acc: 0.7659\n",
            "Epoch 22/100\n",
            "26048/26048 [==============================] - 0s 7us/step - loss: 3.8178 - acc: 0.7604 - val_loss: 3.7231 - val_acc: 0.7665\n",
            "Epoch 23/100\n",
            "26048/26048 [==============================] - 0s 4us/step - loss: 3.8106 - acc: 0.7607 - val_loss: 3.7129 - val_acc: 0.7671\n",
            "Epoch 24/100\n",
            "26048/26048 [==============================] - 0s 5us/step - loss: 3.8104 - acc: 0.7606 - val_loss: 3.7064 - val_acc: 0.7672\n",
            "Epoch 25/100\n",
            "26048/26048 [==============================] - 0s 5us/step - loss: 3.7907 - acc: 0.7617 - val_loss: 3.6978 - val_acc: 0.7677\n",
            "Epoch 26/100\n",
            "26048/26048 [==============================] - 0s 8us/step - loss: 3.7932 - acc: 0.7613 - val_loss: 3.6842 - val_acc: 0.7686\n",
            "Epoch 27/100\n",
            "26048/26048 [==============================] - 0s 6us/step - loss: 3.7665 - acc: 0.7629 - val_loss: 3.6749 - val_acc: 0.7694\n",
            "Epoch 28/100\n",
            "26048/26048 [==============================] - 0s 4us/step - loss: 3.7758 - acc: 0.7616 - val_loss: 3.6675 - val_acc: 0.7695\n",
            "Epoch 29/100\n",
            "26048/26048 [==============================] - 0s 5us/step - loss: 3.7563 - acc: 0.7628 - val_loss: 3.6617 - val_acc: 0.7700\n",
            "Epoch 30/100\n",
            "26048/26048 [==============================] - 0s 6us/step - loss: 3.7632 - acc: 0.7625 - val_loss: 3.6651 - val_acc: 0.7697\n",
            "Epoch 31/100\n",
            "26048/26048 [==============================] - 0s 4us/step - loss: 3.7583 - acc: 0.7633 - val_loss: 3.6684 - val_acc: 0.7695\n",
            "Epoch 32/100\n",
            "26048/26048 [==============================] - 0s 4us/step - loss: 3.7539 - acc: 0.7639 - val_loss: 3.6676 - val_acc: 0.7695\n",
            "Epoch 33/100\n",
            "26048/26048 [==============================] - 0s 4us/step - loss: 3.7603 - acc: 0.7635 - val_loss: 3.6622 - val_acc: 0.7700\n",
            "Epoch 34/100\n",
            "26048/26048 [==============================] - 0s 4us/step - loss: 3.7530 - acc: 0.7641 - val_loss: 3.6557 - val_acc: 0.7705\n",
            "Epoch 35/100\n",
            "26048/26048 [==============================] - 0s 6us/step - loss: 3.7493 - acc: 0.7641 - val_loss: 3.6488 - val_acc: 0.7709\n",
            "Epoch 36/100\n",
            "26048/26048 [==============================] - 0s 5us/step - loss: 3.7407 - acc: 0.7646 - val_loss: 3.6417 - val_acc: 0.7712\n",
            "Epoch 37/100\n",
            "26048/26048 [==============================] - 0s 5us/step - loss: 3.7303 - acc: 0.7650 - val_loss: 3.6262 - val_acc: 0.7720\n",
            "Epoch 38/100\n",
            "26048/26048 [==============================] - 0s 4us/step - loss: 3.7195 - acc: 0.7652 - val_loss: 3.5985 - val_acc: 0.7741\n",
            "Epoch 39/100\n",
            "26048/26048 [==============================] - 0s 6us/step - loss: 3.7071 - acc: 0.7649 - val_loss: 3.5771 - val_acc: 0.7752\n",
            "Epoch 40/100\n",
            "26048/26048 [==============================] - 0s 4us/step - loss: 3.6916 - acc: 0.7653 - val_loss: 3.5714 - val_acc: 0.7757\n",
            "Epoch 41/100\n",
            "26048/26048 [==============================] - 0s 4us/step - loss: 3.6869 - acc: 0.7657 - val_loss: 3.5522 - val_acc: 0.7758\n",
            "Epoch 42/100\n",
            "26048/26048 [==============================] - 0s 4us/step - loss: 3.6729 - acc: 0.7656 - val_loss: 3.5350 - val_acc: 0.7769\n",
            "Epoch 43/100\n",
            "26048/26048 [==============================] - 0s 4us/step - loss: 3.6279 - acc: 0.7686 - val_loss: 3.5175 - val_acc: 0.7780\n",
            "Epoch 44/100\n",
            "26048/26048 [==============================] - 0s 6us/step - loss: 3.6326 - acc: 0.7681 - val_loss: 3.4753 - val_acc: 0.7806\n",
            "Epoch 45/100\n",
            "26048/26048 [==============================] - 0s 5us/step - loss: 3.6308 - acc: 0.7679 - val_loss: 3.4503 - val_acc: 0.7821\n",
            "Epoch 46/100\n",
            "26048/26048 [==============================] - 0s 4us/step - loss: 3.5435 - acc: 0.7718 - val_loss: 3.3887 - val_acc: 0.7854\n",
            "Epoch 47/100\n",
            "26048/26048 [==============================] - 0s 4us/step - loss: 3.5523 - acc: 0.7692 - val_loss: 3.3080 - val_acc: 0.7884\n",
            "Epoch 48/100\n",
            "26048/26048 [==============================] - 0s 4us/step - loss: 3.4901 - acc: 0.7702 - val_loss: 3.2295 - val_acc: 0.7909\n",
            "Epoch 49/100\n",
            "26048/26048 [==============================] - 0s 6us/step - loss: 3.4306 - acc: 0.7721 - val_loss: 3.1047 - val_acc: 0.7975\n",
            "Epoch 50/100\n",
            "26048/26048 [==============================] - 0s 4us/step - loss: 3.2405 - acc: 0.7697 - val_loss: 2.5919 - val_acc: 0.7976\n",
            "Epoch 51/100\n",
            "26048/26048 [==============================] - 0s 4us/step - loss: 2.7313 - acc: 0.7327 - val_loss: 0.6904 - val_acc: 0.7863\n",
            "Epoch 52/100\n",
            "26048/26048 [==============================] - 0s 4us/step - loss: 1.6331 - acc: 0.7324 - val_loss: 0.7345 - val_acc: 0.7758\n",
            "Epoch 53/100\n",
            "26048/26048 [==============================] - 0s 4us/step - loss: 1.0905 - acc: 0.7105 - val_loss: 0.6908 - val_acc: 0.7728\n",
            "Epoch 54/100\n",
            "26048/26048 [==============================] - 0s 6us/step - loss: 0.8122 - acc: 0.7426 - val_loss: 0.6755 - val_acc: 0.7832\n",
            "Epoch 55/100\n",
            "26048/26048 [==============================] - 0s 5us/step - loss: 0.7370 - acc: 0.7444 - val_loss: 0.6741 - val_acc: 0.7764\n",
            "Epoch 56/100\n",
            "26048/26048 [==============================] - 0s 4us/step - loss: 0.7070 - acc: 0.7556 - val_loss: 0.6723 - val_acc: 0.7748\n",
            "Epoch 57/100\n",
            "26048/26048 [==============================] - 0s 4us/step - loss: 0.6873 - acc: 0.7599 - val_loss: 0.6708 - val_acc: 0.7728\n",
            "Epoch 58/100\n",
            "26048/26048 [==============================] - 0s 5us/step - loss: 0.6790 - acc: 0.7636 - val_loss: 0.6698 - val_acc: 0.7714\n",
            "Epoch 59/100\n",
            "26048/26048 [==============================] - 0s 5us/step - loss: 0.6684 - acc: 0.7648 - val_loss: 0.6705 - val_acc: 0.7709\n",
            "Epoch 60/100\n",
            "26048/26048 [==============================] - 0s 4us/step - loss: 0.6605 - acc: 0.7647 - val_loss: 0.6663 - val_acc: 0.7708\n",
            "Epoch 61/100\n",
            "26048/26048 [==============================] - 0s 4us/step - loss: 0.6522 - acc: 0.7526 - val_loss: 0.6309 - val_acc: 0.7706\n",
            "Epoch 62/100\n",
            "26048/26048 [==============================] - 0s 5us/step - loss: 0.6526 - acc: 0.7652 - val_loss: 0.6331 - val_acc: 0.7706\n",
            "Epoch 63/100\n",
            "26048/26048 [==============================] - 0s 6us/step - loss: 0.6428 - acc: 0.7631 - val_loss: 0.6401 - val_acc: 0.7706\n",
            "Epoch 64/100\n",
            "26048/26048 [==============================] - 0s 4us/step - loss: 0.6377 - acc: 0.7640 - val_loss: 0.6116 - val_acc: 0.7706\n",
            "Epoch 65/100\n",
            "26048/26048 [==============================] - 0s 4us/step - loss: 0.6277 - acc: 0.7649 - val_loss: 0.5840 - val_acc: 0.7706\n",
            "Epoch 66/100\n",
            "26048/26048 [==============================] - 0s 4us/step - loss: 0.6282 - acc: 0.7648 - val_loss: 0.5891 - val_acc: 0.7706\n",
            "Epoch 67/100\n",
            "26048/26048 [==============================] - 0s 4us/step - loss: 0.6214 - acc: 0.7644 - val_loss: 0.5944 - val_acc: 0.7706\n",
            "Epoch 68/100\n",
            "26048/26048 [==============================] - 0s 5us/step - loss: 0.6197 - acc: 0.7649 - val_loss: 0.5736 - val_acc: 0.7706\n",
            "Epoch 69/100\n",
            "26048/26048 [==============================] - 0s 5us/step - loss: 0.6217 - acc: 0.7660 - val_loss: 0.5942 - val_acc: 0.7708\n",
            "Epoch 70/100\n",
            "26048/26048 [==============================] - 0s 5us/step - loss: 0.6159 - acc: 0.7649 - val_loss: 0.5945 - val_acc: 0.7708\n",
            "Epoch 71/100\n",
            "26048/26048 [==============================] - 0s 4us/step - loss: 0.6183 - acc: 0.7654 - val_loss: 0.5654 - val_acc: 0.7708\n",
            "Epoch 72/100\n",
            "26048/26048 [==============================] - 0s 4us/step - loss: 0.6203 - acc: 0.7653 - val_loss: 0.5515 - val_acc: 0.7708\n",
            "Epoch 73/100\n",
            "26048/26048 [==============================] - 0s 5us/step - loss: 0.6179 - acc: 0.7652 - val_loss: 0.5610 - val_acc: 0.7709\n",
            "Epoch 74/100\n",
            "26048/26048 [==============================] - 0s 5us/step - loss: 0.6047 - acc: 0.7650 - val_loss: 0.5779 - val_acc: 0.7709\n",
            "Epoch 75/100\n",
            "26048/26048 [==============================] - 0s 4us/step - loss: 0.6053 - acc: 0.7648 - val_loss: 0.5581 - val_acc: 0.7711\n",
            "Epoch 76/100\n",
            "26048/26048 [==============================] - 0s 4us/step - loss: 0.5990 - acc: 0.7660 - val_loss: 0.5631 - val_acc: 0.7712\n",
            "Epoch 77/100\n",
            "26048/26048 [==============================] - 0s 4us/step - loss: 0.5982 - acc: 0.7656 - val_loss: 0.5658 - val_acc: 0.7714\n",
            "Epoch 78/100\n",
            "26048/26048 [==============================] - 0s 5us/step - loss: 0.5995 - acc: 0.7655 - val_loss: 0.5534 - val_acc: 0.7714\n",
            "Epoch 79/100\n",
            "26048/26048 [==============================] - 0s 6us/step - loss: 0.5931 - acc: 0.7659 - val_loss: 0.5591 - val_acc: 0.7714\n",
            "Epoch 80/100\n",
            "26048/26048 [==============================] - 0s 4us/step - loss: 0.5907 - acc: 0.7660 - val_loss: 0.5635 - val_acc: 0.7714\n",
            "Epoch 81/100\n",
            "26048/26048 [==============================] - 0s 4us/step - loss: 0.5948 - acc: 0.7656 - val_loss: 0.5588 - val_acc: 0.7714\n",
            "Epoch 82/100\n",
            "26048/26048 [==============================] - 0s 4us/step - loss: 0.5910 - acc: 0.7661 - val_loss: 0.5561 - val_acc: 0.7714\n",
            "Epoch 83/100\n",
            "26048/26048 [==============================] - 0s 4us/step - loss: 0.5872 - acc: 0.7670 - val_loss: 0.5572 - val_acc: 0.7715\n",
            "Epoch 84/100\n",
            "26048/26048 [==============================] - 0s 5us/step - loss: 0.5879 - acc: 0.7662 - val_loss: 0.5547 - val_acc: 0.7715\n",
            "Epoch 85/100\n",
            "26048/26048 [==============================] - 0s 4us/step - loss: 0.5876 - acc: 0.7667 - val_loss: 0.5579 - val_acc: 0.7715\n",
            "Epoch 86/100\n",
            "26048/26048 [==============================] - 0s 4us/step - loss: 0.5860 - acc: 0.7671 - val_loss: 0.5490 - val_acc: 0.7717\n",
            "Epoch 87/100\n",
            "26048/26048 [==============================] - 0s 4us/step - loss: 0.5851 - acc: 0.7676 - val_loss: 0.5535 - val_acc: 0.7717\n",
            "Epoch 88/100\n",
            "26048/26048 [==============================] - 0s 4us/step - loss: 0.5833 - acc: 0.7671 - val_loss: 0.5508 - val_acc: 0.7717\n",
            "Epoch 89/100\n",
            "26048/26048 [==============================] - 0s 6us/step - loss: 0.5849 - acc: 0.7677 - val_loss: 0.5554 - val_acc: 0.7717\n",
            "Epoch 90/100\n",
            "26048/26048 [==============================] - 0s 4us/step - loss: 0.5819 - acc: 0.7667 - val_loss: 0.5480 - val_acc: 0.7717\n",
            "Epoch 91/100\n",
            "26048/26048 [==============================] - 0s 4us/step - loss: 0.5819 - acc: 0.7676 - val_loss: 0.5486 - val_acc: 0.7718\n",
            "Epoch 92/100\n",
            "26048/26048 [==============================] - 0s 4us/step - loss: 0.5827 - acc: 0.7673 - val_loss: 0.5505 - val_acc: 0.7725\n",
            "Epoch 93/100\n",
            "26048/26048 [==============================] - 0s 5us/step - loss: 0.5811 - acc: 0.7672 - val_loss: 0.5465 - val_acc: 0.7725\n",
            "Epoch 94/100\n",
            "26048/26048 [==============================] - 0s 5us/step - loss: 0.5819 - acc: 0.7675 - val_loss: 0.5482 - val_acc: 0.7728\n",
            "Epoch 95/100\n",
            "26048/26048 [==============================] - 0s 4us/step - loss: 0.5793 - acc: 0.7680 - val_loss: 0.5475 - val_acc: 0.7729\n",
            "Epoch 96/100\n",
            "26048/26048 [==============================] - 0s 5us/step - loss: 0.5789 - acc: 0.7684 - val_loss: 0.5484 - val_acc: 0.7734\n",
            "Epoch 97/100\n",
            "26048/26048 [==============================] - 0s 4us/step - loss: 0.5759 - acc: 0.7692 - val_loss: 0.5455 - val_acc: 0.7737\n",
            "Epoch 98/100\n",
            "26048/26048 [==============================] - 0s 4us/step - loss: 0.5805 - acc: 0.7697 - val_loss: 0.5446 - val_acc: 0.7740\n",
            "Epoch 99/100\n",
            "26048/26048 [==============================] - 0s 5us/step - loss: 0.5754 - acc: 0.7687 - val_loss: 0.5462 - val_acc: 0.7740\n",
            "Epoch 100/100\n",
            "26048/26048 [==============================] - 0s 4us/step - loss: 0.5731 - acc: 0.7691 - val_loss: 0.5415 - val_acc: 0.7740\n"
          ],
          "name": "stdout"
        },
        {
          "output_type": "execute_result",
          "data": {
            "text/plain": [
              "<keras.callbacks.History at 0x7f10483d5550>"
            ]
          },
          "metadata": {
            "tags": []
          },
          "execution_count": 35
        }
      ]
    },
    {
      "metadata": {
        "id": "W57JHYkJpj53",
        "colab_type": "code",
        "colab": {
          "base_uri": "https://localhost:8080/",
          "height": 51
        },
        "outputId": "625be14e-8b2e-46b6-b950-a41b9fe070cf"
      },
      "cell_type": "code",
      "source": [
        "model.evaluate(X_test, y_test)"
      ],
      "execution_count": 24,
      "outputs": [
        {
          "output_type": "stream",
          "text": [
            "6513/6513 [==============================] - 0s 67us/step\n"
          ],
          "name": "stdout"
        },
        {
          "output_type": "execute_result",
          "data": {
            "text/plain": [
              "[0.5741670105967236, 0.7578688776659632]"
            ]
          },
          "metadata": {
            "tags": []
          },
          "execution_count": 24
        }
      ]
    },
    {
      "metadata": {
        "id": "YHgERZOLpj8l",
        "colab_type": "code",
        "colab": {
          "base_uri": "https://localhost:8080/",
          "height": 136
        },
        "outputId": "6697fbb6-54ac-4e6d-8f95-5c51f7b3baa3"
      },
      "cell_type": "code",
      "source": [
        "model.predict(X_test)"
      ],
      "execution_count": 37,
      "outputs": [
        {
          "output_type": "execute_result",
          "data": {
            "text/plain": [
              "array([[0.58083487],\n",
              "       [0.5792865 ],\n",
              "       [0.8127272 ],\n",
              "       ...,\n",
              "       [0.6844831 ],\n",
              "       [0.59029853],\n",
              "       [0.78583723]], dtype=float32)"
            ]
          },
          "metadata": {
            "tags": []
          },
          "execution_count": 37
        }
      ]
    },
    {
      "metadata": {
        "id": "2Hog8i9Dpj_Q",
        "colab_type": "code",
        "colab": {}
      },
      "cell_type": "code",
      "source": [
        ""
      ],
      "execution_count": 0,
      "outputs": []
    }
  ]
}